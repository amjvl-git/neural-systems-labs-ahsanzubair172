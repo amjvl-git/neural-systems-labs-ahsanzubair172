{
 "cells": [
  {
   "cell_type": "markdown",
   "id": "27e4c023",
   "metadata": {},
   "source": [
    "#Complete Image Preprocessing and Multi-Class Classification using ANN (Keras + CIFAR-10)"
   ]
  },
  {
   "cell_type": "markdown",
   "id": "e3bac6eb",
   "metadata": {},
   "source": [
    "This notebook demonstrates a complete pipeline for image preprocessing and classification using an **Artificial Neural Network (ANN)** on the CIFAR-10 dataset."
   ]
  },
  {
   "cell_type": "code",
   "execution_count": null,
   "id": "ec3822e3",
   "metadata": {},
   "outputs": [],
   "source": [
    "\n",
    "import tensorflow as tf\n",
    "from tensorflow.keras import datasets, layers, models\n",
    "from tensorflow.keras.utils import to_categorical\n",
    "import matplotlib.pyplot as plt\n",
    "import numpy as np\n",
    "\n",
    "print(\"TensorFlow version:\", tf.__version__)\n"
   ]
  },
  {
   "cell_type": "markdown",
   "id": "1db26c85",
   "metadata": {},
   "source": [
    "## 1️⃣ Load the CIFAR-10 Dataset"
   ]
  },
  {
   "cell_type": "code",
   "execution_count": null,
   "id": "7c50280e",
   "metadata": {},
   "outputs": [],
   "source": [
    "\n",
    "(train_images, train_labels), (test_images, test_labels) = datasets.cifar10.load_data()\n",
    "\n",
    "class_names = ['airplane', 'automobile', 'bird', 'cat', 'deer',\n",
    "               'dog', 'frog', 'horse', 'ship', 'truck']\n",
    "\n",
    "print(\"Training data shape:\", train_images.shape)\n",
    "print(\"Testing data shape:\", test_images.shape)\n"
   ]
  },
  {
   "cell_type": "markdown",
   "id": "85699e59",
   "metadata": {},
   "source": [
    "## 2️⃣ Visualize Raw Images"
   ]
  },
  {
   "cell_type": "code",
   "execution_count": null,
   "id": "cab88add",
   "metadata": {},
   "outputs": [],
   "source": [
    "\n",
    "plt.figure(figsize=(8,8))\n",
    "for i in range(9):\n",
    "    plt.subplot(3,3,i+1)\n",
    "    plt.imshow(train_images[i])\n",
    "    plt.title(class_names[train_labels[i][0]])\n",
    "    plt.axis('off')\n",
    "plt.show()\n"
   ]
  },
  {
   "cell_type": "markdown",
   "id": "cf898d32",
   "metadata": {},
   "source": [
    "## 3️⃣ Normalize Pixel Values (0–1)"
   ]
  },
  {
   "cell_type": "code",
   "execution_count": null,
   "id": "30bcaa11",
   "metadata": {},
   "outputs": [],
   "source": [
    "\n",
    "train_images = train_images.astype(\"float32\") / 255.0\n",
    "test_images = test_images.astype(\"float32\") / 255.0\n"
   ]
  },
  {
   "cell_type": "markdown",
   "id": "201693a6",
   "metadata": {},
   "source": [
    "## 4️⃣ Flatten Images for ANN Input (32×32×3 → 3072)"
   ]
  },
  {
   "cell_type": "code",
   "execution_count": null,
   "id": "edae4dc0",
   "metadata": {},
   "outputs": [],
   "source": [
    "\n",
    "train_images = train_images.reshape((train_images.shape[0], -1))\n",
    "test_images = test_images.reshape((test_images.shape[0], -1))\n",
    "print(\"New training image shape:\", train_images.shape)\n"
   ]
  },
  {
   "cell_type": "markdown",
   "id": "ee5f3c03",
   "metadata": {},
   "source": [
    "## 5️⃣ One-Hot Encode the Labels"
   ]
  },
  {
   "cell_type": "code",
   "execution_count": null,
   "id": "0f1dd804",
   "metadata": {},
   "outputs": [],
   "source": [
    "\n",
    "train_labels_cat = to_categorical(train_labels, 10)\n",
    "test_labels_cat = to_categorical(test_labels, 10)\n",
    "\n",
    "print(\"Example encoded label:\", train_labels_cat[0])\n"
   ]
  },
  {
   "cell_type": "markdown",
   "id": "8356e3b8",
   "metadata": {},
   "source": [
    "## 6️⃣ Define the ANN Model"
   ]
  },
  {
   "cell_type": "code",
   "execution_count": null,
   "id": "a77f7356",
   "metadata": {},
   "outputs": [],
   "source": [
    "\n",
    "model = models.Sequential([\n",
    "    layers.Dense(512, activation='relu', input_shape=(3072,)),\n",
    "    layers.Dense(256, activation='relu'),\n",
    "    layers.Dense(128, activation='relu'),\n",
    "    layers.Dense(10, activation='softmax')\n",
    "])\n",
    "\n",
    "model.summary()\n"
   ]
  },
  {
   "cell_type": "markdown",
   "id": "ed60f3a2",
   "metadata": {},
   "source": [
    "## 7️⃣ Compile the Model"
   ]
  },
  {
   "cell_type": "code",
   "execution_count": null,
   "id": "181b8aee",
   "metadata": {},
   "outputs": [],
   "source": [
    "\n",
    "model.compile(optimizer='adam',\n",
    "              loss='categorical_crossentropy',\n",
    "              metrics=['accuracy'])\n"
   ]
  },
  {
   "cell_type": "markdown",
   "id": "1422eb93",
   "metadata": {},
   "source": [
    "## 8️⃣ Train the ANN"
   ]
  },
  {
   "cell_type": "code",
   "execution_count": null,
   "id": "41dfad4d",
   "metadata": {},
   "outputs": [],
   "source": [
    "\n",
    "history = model.fit(\n",
    "    train_images, train_labels_cat,\n",
    "    epochs=20,\n",
    "    batch_size=64,\n",
    "    validation_data=(test_images, test_labels_cat),\n",
    "    verbose=2\n",
    ")\n"
   ]
  },
  {
   "cell_type": "markdown",
   "id": "421151f6",
   "metadata": {},
   "source": [
    "## 9️⃣ Evaluate the Model"
   ]
  },
  {
   "cell_type": "code",
   "execution_count": null,
   "id": "d84dd248",
   "metadata": {},
   "outputs": [],
   "source": [
    "\n",
    "test_loss, test_acc = model.evaluate(test_images, test_labels_cat, verbose=2)\n",
    "print(\"Test accuracy:\", test_acc)\n"
   ]
  },
  {
   "cell_type": "markdown",
   "id": "19fe1c4a",
   "metadata": {},
   "source": [
    "## 🔟 Visualize Training Accuracy"
   ]
  },
  {
   "cell_type": "code",
   "execution_count": null,
   "id": "54c36fd9",
   "metadata": {},
   "outputs": [],
   "source": [
    "\n",
    "plt.figure(figsize=(8,6))\n",
    "plt.plot(history.history['accuracy'], label='Training Accuracy')\n",
    "plt.plot(history.history['val_accuracy'], label='Validation Accuracy')\n",
    "plt.title('ANN Training vs Validation Accuracy')\n",
    "plt.xlabel('Epochs')\n",
    "plt.ylabel('Accuracy')\n",
    "plt.legend()\n",
    "plt.show()\n"
   ]
  },
  {
   "cell_type": "markdown",
   "id": "a525b237",
   "metadata": {},
   "source": [
    "## 🧩 Predict and Visualize Results"
   ]
  },
  {
   "cell_type": "code",
   "execution_count": null,
   "id": "78175af7",
   "metadata": {},
   "outputs": [],
   "source": [
    "\n",
    "predictions = model.predict(test_images)\n",
    "plt.figure(figsize=(8,8))\n",
    "for i in range(9):\n",
    "    plt.subplot(3,3,i+1)\n",
    "    plt.imshow(test_images[i].reshape(32,32,3))\n",
    "    plt.title(f\"True: {class_names[test_labels[i][0]]}\\nPred: {class_names[np.argmax(predictions[i])]}\")\n",
    "    plt.axis('off')\n",
    "plt.show()\n"
   ]
  },
  {
   "cell_type": "markdown",
   "id": "38020137",
   "metadata": {},
   "source": [
    "## ✅ Summary: ANN vs CNN"
   ]
  },
  {
   "cell_type": "markdown",
   "id": "e793317c",
   "metadata": {},
   "source": [
    "\n",
    "| Feature | ANN | CNN |\n",
    "|----------|-----|-----|\n",
    "| Input shape | Flattened (1D) | 2D spatial (H×W×C) |\n",
    "| Learns spatial patterns? | ❌ No | ✅ Yes |\n",
    "| Parameters | High | Lower (shared weights) |\n",
    "| Use-case | Simple / tabular | Image, spatial data |\n"
   ]
  }
 ],
 "metadata": {},
 "nbformat": 4,
 "nbformat_minor": 5
}
